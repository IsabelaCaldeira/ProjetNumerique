{
 "cells": [
  {
   "cell_type": "markdown",
   "id": "cfa0c3b4",
   "metadata": {},
   "source": [
    "#\n",
    "\n",
    "## TP 1 Projets Numériques\n",
    "\n",
    "#\n",
    "\n",
    "Dans le module Projets Numériques-MEPY3, vous utiliserez des outils de programmation pour résoudre des problèmes de mécanique/physique.\n",
    "Les différents thèmes abordés seront traités en utilisant exclusivement les documents de travail \"Notebook-Jupyter\".\n",
    "\n",
    "Dans un premier temps (2 séances TPs), les bases de la programmation **Python** seront présentées, afin de voir (ou revoir) le socle indispensable à la résolution numérique de problème. Ces outils seront mis en oeuvre lors de la réalisation des projets (3 séances Projet).\n",
    "\n",
    "Le sujet est découpé en deux parties :\n",
    "\n",
    "- le travail de découverte des notions à réaliser en séance ;\n",
    "- le travail de mise en \\oe uvre des notions à réaliser en autonomie et déposer sur Moodle une semaine plus tard (voir le calendrier des dépôts sur Moodle). Vous pourrez utiliser le bureau à distance de _CAPSULE_ pour accéder à vos fichiers.\n",
    "\n",
    "Pour vous aider, vous pourrez vous référer au memento fourni dans le module, ou bien aux nombreux sites web présentant les commandes **Python**, comme par exemple\n",
    "\n",
    "- https://courspython.com/\n",
    "- https://python.sdv.univ-paris-diderot.fr\n",
    "- https://docs.python.org/ La langue et la version peuvent être sélectionnées en haut à gauche.\n",
    "- Cours PDF téléchargeable : https://www.licence.info.upmc.fr/lmd/licence/2019/ue/LU1IN001-2019oct/elemprog_2019-09-10.pdf\n"
   ]
  },
  {
   "cell_type": "markdown",
   "id": "4128a04f",
   "metadata": {},
   "source": [
    "# ----------------------------------------------------------------------------------\n",
    "\n",
    "### Partie I. Affichage et format\n",
    "\n",
    "Pour afficher un résultat à l’écran, on utilise la fonction $\\mathtt{print(arguments)}$. Les arguments peuvent être des chaînes de caractères (placés entre guillemets $\"  \"$) ou bien des valeurs contenues dans des variables (désignées par des lettres ou mots). Les arguments seront séparés par des virgules.\n",
    "\n",
    "La cellule qui suit (**In [1]:**) donne quelques exemples d'affichage.\n",
    "\n",
    "**Note**: 'sep' spécifie un séparateur entre les différents arguments à afficher et '#' spécifie le début des commentaires, instructions non lues et non exécutées par Python.\n"
   ]
  },
  {
   "cell_type": "code",
   "execution_count": 98,
   "id": "263eaa31",
   "metadata": {},
   "outputs": [
    {
     "name": "stdout",
     "output_type": "stream",
     "text": [
      "Mon premier code\n",
      "10 2\n",
      "10 ; 2\n",
      "10 séances de 2 heures\n"
     ]
    }
   ],
   "source": [
    "# je debute en python....\n",
    "print(\"Mon premier code\") # Exemple\n",
    "a=10; b=2\n",
    "c= 2023\n",
    "print(a,b)\n",
    "print(a,b,sep=\" ; \")\n",
    "print(a,\"séances de\",b,\"heures\") # signification de a et b"
   ]
  },
  {
   "cell_type": "markdown",
   "id": "ee655b9a",
   "metadata": {},
   "source": [
    "#### >>>>> Q 1) Affecter la valeur $50$ à la variable Var, puis l'afficher sous la forme $\\mathtt{Var=50}$. Faire de même pour la variable x_negatif et la valeur $-2,5$. On pourra écrire les instructions d'affectation et d'affichage sur une même ligne, en les séparant par un point-virgule \" ; \".\n",
    "\n",
    "**Note 1**: Python fait la différence entre les minuscules et les majuscules, on dit qu'il est sensible à la casse.\n",
    "\n",
    "**Note 2**: En python comme dans la plupart (si ce n'est tous) des languages de programmation, les variables ont un _type_ associé qui change la manière dont est encodée la mémoire allouée à la variable dans la machine. Plusieurs types peuvent décrire les variables, dont entiers / réel / caractère / booléen.\n",
    "Par exemple, le chiffre 4 est un entier ou _integer_ en anglais. Si on pose $x=4$, la valeur $4$ sera allouée à la variable $x$ qui sera donc un _integer_. Si on tape la commande $\\mathtt{print(x)}$, la cellule devrait renvoyer le chiffre $4$. En revanche, si on alloue la valeur $4.00$ à $x$, il n'est pas considéré comme un entier mais un nombre réel à virgule \"flottante\" d'où sa dénomination _float_ en anglais. Il faut bien comprendre que $4$ et $4.0$ sont des valeurs fondamentalement différentes pour la machine, elles ne seront pas traitées de la même manière. Par exemple, si on relance la commande $\\mathtt{print(x)}$ après la nouvelle allocation, le résultat affiché devrait être $4.0$ (peu importe le nombre de $0$ après la virgule dans l'allocation).\n"
   ]
  },
  {
   "cell_type": "code",
   "execution_count": 99,
   "id": "2e16413b",
   "metadata": {
    "tags": []
   },
   "outputs": [
    {
     "name": "stdout",
     "output_type": "stream",
     "text": [
      "Var= 50\n",
      "x_negatif= -2.5\n"
     ]
    }
   ],
   "source": [
    "# Affichage des valeurs de variables\n",
    "Var=50; x=-2.5\n",
    "print(\"Var=\",Var); print('x_negatif=',x)"
   ]
  },
  {
   "cell_type": "markdown",
   "id": "81206a40",
   "metadata": {},
   "source": [
    "#### >>>>> Q 2) Afficher sous la forme de 3 colonnes les résultats à l'examen des 4 étudiants Pierre, Paul, Jacques et Sophie qui ont obtenu respectivement 12, 8, 16, 15 (sur 20) en Math et 10, 15, 13, 17 en Physique.\n",
    "\n",
    "On affichera une ligne d'en-tête spécifiant ce que représente chaque colonne.\n"
   ]
  },
  {
   "cell_type": "code",
   "execution_count": 100,
   "id": "6fb02bcc",
   "metadata": {
    "tags": []
   },
   "outputs": [
    {
     "name": "stdout",
     "output_type": "stream",
     "text": [
      "Nom  Math  Physique \n",
      "Pierre  12 10\n",
      "Paul  8 15\n",
      "Jacques  16 13\n",
      "Sophie  15 17\n"
     ]
    }
   ],
   "source": [
    "# Affichage des notes\n",
    "print('Nom ', 'Math ', 'Physique ')\n",
    "print('Pierre ',12,10)\n",
    "print('Paul ',8,15)\n",
    "print('Jacques ',16,13)\n",
    "print('Sophie ',15,17)"
   ]
  },
  {
   "cell_type": "markdown",
   "id": "43fe225b",
   "metadata": {},
   "source": [
    "# -----------------\n",
    "\n",
    "Afin de faciliter la lecture des résultats, on peut utiliser l'écriture formatée du contenu des variables. On utilise les commandes _f-string_ (_string_ désigne une chaîne de caractères):\n",
    "print(f\"{ }\")\n",
    "\n",
    "Par exemple, pour une variable $\\mathtt{x}$ :\n",
    "\n",
    "- $\\mathtt{\\{x:d\\}}$ affiche un entier (_integer_) ;\n",
    "- $\\mathtt{\\{x:10s\\}}$ affiche une chaîne de caractères de taille maximale 10 caractères ;\n",
    "- $\\mathtt{\\{x:7.2f\\}}$ affiche un réel (_float_) avec deux chiffres après la virgule sur une réservation d'espace de sept caractères.\n",
    "\n",
    "Attention, il faut respecter le type des variables (entiers / réel / caractère / booléen). La fonction $\\mathtt{type}()$ permet de se renseigner sur le type d'une variable.\n",
    "La cellule qui suit vous donne quelques exemples.\n"
   ]
  },
  {
   "cell_type": "code",
   "execution_count": 101,
   "id": "9c0b279c",
   "metadata": {
    "tags": []
   },
   "outputs": [
    {
     "name": "stdout",
     "output_type": "stream",
     "text": [
      "5\n",
      "2.351\n",
      "  2.351\n",
      "   2.35\n",
      "<class 'int'>\n",
      "<class 'float'>\n",
      "a =  2.351\n",
      "a =  2.351\t b=5\n",
      "dernier affichage a =  2.351\n",
      " b=5\n"
     ]
    }
   ],
   "source": [
    "# Exemples d'affichage formaté\n",
    "a=2.351; b=5\n",
    "print(f\"{b:d}\")\n",
    "print(f\"{a:}\"); print(f\"{a:7.3f}\");  print(f\"{a:7.2f}\")\n",
    "print(type(b));print(type(a))\n",
    "print(f\"a ={a:7.3f}\")\n",
    "print(f\"a ={a:7.3f}\\t b={b}\")\n",
    "print(f\"dernier affichage a ={a:7.3f}\\n b={b}\")\n"
   ]
  },
  {
   "cell_type": "markdown",
   "id": "455cad26",
   "metadata": {},
   "source": [
    "#### >>>>> Q 3) Reprendre l'exemple des notes-etudiants pour afficher 3 colonnes bien délimitées en taille.\n"
   ]
  },
  {
   "cell_type": "code",
   "execution_count": 102,
   "id": "9720951f",
   "metadata": {
    "tags": []
   },
   "outputs": [
    {
     "name": "stdout",
     "output_type": "stream",
     "text": [
      " Nom        Math Phys \n",
      " Pierre       12   10 \n",
      " Paul          8   15 \n",
      " Jacques      16   13 \n",
      " Sophie       15   17 \n"
     ]
    }
   ],
   "source": [
    "# Affichage des notes\n",
    "n1='Pierre'; m1=12; p1=10\n",
    "n2='Paul'; m2=8; p2=15\n",
    "n3='Jacques'; m3=16; p3=13\n",
    "n4='Sophie'; m4=15; p4=17\n",
    "n0='Nom'; m0='Math'; p0='Phys'\n",
    "print(f' {n0:10s} {m0:4s} {p0:4s} ')\n",
    "print(f' {n1:10s} {m1:4d} {p1:4d} ')\n",
    "print(f' {n2:10s} {m2:4d} {p2:4d} ')\n",
    "print(f' {n3:10s} {m3:4d} {p3:4d} ')\n",
    "print(f' {n4:10s} {m4:4d} {p4:4d} ')\n"
   ]
  },
  {
   "cell_type": "markdown",
   "id": "a6d720c1",
   "metadata": {},
   "source": [
    "# --------------------------------------------------------------------------\n",
    "\n",
    "### Partie II. Opérateurs arithmétiques et fonctions prédéfinies\n",
    "\n",
    "Pour composer des expressions arithmétiques, **Python** utilise :\n",
    "\n",
    "- des opérateurs arithmétiques\n",
    "- des fonctions prédéfinies en langage Python ou définies par le programmeur (cf. TP2).\n",
    "\n",
    "Des opérateurs usuels (qui travaillent sur des nombres et renvoient des nombres) sont :\n",
    "\n",
    "    L'addition : **+** , la soustraction ou signe moins : **-** , la mutiplication : *****\n",
    "    L'exponentiation (mise à la puissance) de A par B : A******B\n",
    "    La division de A par B : A/B\n",
    "    La division euclidienne (division entière) de A par B : A//B\n",
    "    Le reste de la division euclidienne de A par B : A%B\n"
   ]
  },
  {
   "cell_type": "markdown",
   "id": "2807c292",
   "metadata": {},
   "source": [
    "#### >>>>> Q 4) Convertir ou calculer les données suivantes :\n",
    "\n",
    "Convertir v = 50 km h$^{-1}$ en ... m s$^{-1}$.\n",
    "\n",
    "Convertir F = 300 N en ... kg m s$^{-2}$. Donner le \"poids\" équivalent en \"kg\".\n",
    "\n",
    "Convertir rho= 1000 kg m$^{-3}$ en ... g cm$^{-3}$.\n",
    "\n",
    "Calculer l'énergie cinétique d'une voiture de 1,5 tonnes roulant à 130 km h$^{-1}$.\n"
   ]
  },
  {
   "cell_type": "code",
   "execution_count": 103,
   "id": "ab809bbe",
   "metadata": {
    "tags": []
   },
   "outputs": [
    {
     "name": "stdout",
     "output_type": "stream",
     "text": [
      "13.88888888888889 ms-1\n",
      "13.89 ms-1\n",
      "300 kgms-2 poids equivalent  30.0 kg\n",
      "1.0 gcm-3\n",
      "Ec pour la voiture de 1.5 tonnes roulant à 130km/h 978009.2592592593  J\n"
     ]
    }
   ],
   "source": [
    "# conversions\n",
    "v=50 #kmh-1\n",
    "v_SI=v*1000/3600 # ms-1\n",
    "print(v_SI,'ms-1'); print(f'{v_SI:4.2f} ms-1')\n",
    "F=300\n",
    "print(F,'kgms-2','poids equivalent ',F/10,'kg')\n",
    "rho=1000\n",
    "print(rho*1000*1e-6 ,'gcm-3')\n",
    "print('Ec pour la voiture de 1.5 tonnes roulant à 130km/h',.5*1.5e3*(130*1e3/3600)**2,' J')"
   ]
  },
  {
   "cell_type": "markdown",
   "id": "acb8172b",
   "metadata": {},
   "source": [
    "#### >>>>> Q 5) Examiner l'exemple suivant. Comparer les deux dernières lignes et améliorer l'affichage du nombre d'enfants (entier) dans celles-ci en utilsant les trois méthodes suivantes:\n",
    "\n",
    "commande $\\mathtt{int}()$, division entière (\"//\"), format spécifique f-string.\n"
   ]
  },
  {
   "cell_type": "code",
   "execution_count": 104,
   "id": "7a844c20",
   "metadata": {
    "tags": []
   },
   "outputs": [
    {
     "name": "stdout",
     "output_type": "stream",
     "text": [
      "4.0 4 4\n",
      "John a 56 ans et John a 4.0 enfants\n",
      "John a 56 ans et John a 4.0 enfants\n"
     ]
    }
   ],
   "source": [
    "x = 56 ; nom = \"John\"\n",
    "print(x/14, x//14, int(x/14))\n",
    "print(nom, \"a\", x, \"ans et\", nom, \"a\", x/14, \"enfants\")\n",
    "print(f\"{nom} a {x} ans et {nom} a {x/14} enfants\")\n"
   ]
  },
  {
   "cell_type": "code",
   "execution_count": 105,
   "id": "718d5f47",
   "metadata": {
    "tags": []
   },
   "outputs": [
    {
     "name": "stdout",
     "output_type": "stream",
     "text": [
      "John a 56 ans et John a 4 enfants\n"
     ]
    }
   ],
   "source": [
    "# Ecriture de la ligne \"John a 56 ans et John a 4 enfants\"\n",
    "#Ma version\n",
    "print(f\"{nom} a {x} ans et {nom} a {int(x/14)} enfants\")\n"
   ]
  },
  {
   "cell_type": "markdown",
   "id": "f522c9d3",
   "metadata": {},
   "source": [
    "#### >>>>> Q 6) Calculer les expressions mathématiques qui suivent et afficher les résultats.\n",
    "\n",
    "On considèrera $a = 2$, $b = 4$, $c = 3$, $d = 5$ :\n",
    "\n",
    "- $f=(a+b)\\cdot c$, $g=a+b\\cdot c$, $h=a+(b\\cdot c)$, $\\Delta=b^2-4 \\cdot a \\cdot c$,\n",
    "- $i=\\dfrac{a}{b\\cdot c-d}$, $j=\\dfrac{a}{b \\cdot (c-d)}$.\n",
    "\n",
    "Attention à la priorité des opérateurs et à la position des parenthèses !\n"
   ]
  },
  {
   "cell_type": "code",
   "execution_count": 106,
   "id": "008ff3b9",
   "metadata": {
    "tags": []
   },
   "outputs": [],
   "source": [
    "# Calculs\n",
    "a = 2; b = 4; c = 3; d = 5\n",
    "f = (a+b) * c\n",
    "g = a + b * c\n",
    "h = a + (b * c)\n",
    "delta = b**2 - (4 * a * c)\n",
    "i = a/(b*c-d)\n",
    "j = a/(b*(c-d))\n"
   ]
  },
  {
   "cell_type": "markdown",
   "id": "97238447",
   "metadata": {},
   "source": [
    "#### >>>>> Q 7) Calculer le quotient de la division entière de $\\mathtt{a=17}$ par $\\mathtt{b=5}$, et le reste appelé $\\mathtt{Reste}$. On affichera le résultat de manière lisible.\n"
   ]
  },
  {
   "cell_type": "code",
   "execution_count": 107,
   "id": "54612350",
   "metadata": {
    "tags": []
   },
   "outputs": [
    {
     "name": "stdout",
     "output_type": "stream",
     "text": [
      "La division entière de a 17/5 = 3 et comme le reste on a = 2\n"
     ]
    }
   ],
   "source": [
    "# quotient/reste\n",
    "a=17; b=5\n",
    "quotient=a//b; reste=a%b\n",
    "print(f\"La division entière de a {a}/{b} = {quotient} et comme le reste on a = {reste}\")\n"
   ]
  },
  {
   "cell_type": "markdown",
   "id": "398ff330",
   "metadata": {},
   "source": [
    "# --------\n",
    "\n",
    "Le langage **Python** fournit un grand nombre de _fonctions intrinsèques_ (c'est-à-dire qu'elles sont déjà définies). Elles sont donc accessibles directement. On peut citer par exemple : $\\mathtt{max}()\\mathtt{, min}()\\mathtt{, abs}()$.\n",
    "\n",
    "D'autres peuvent être appelées à partir d'une bibliothéque spécifique, pré-existante dans la suite **Python**, comme par exemple la bibliothèque _math_ pour l'arithmétique (exemples $\\mathtt{cos}()\\mathtt{,sin}()\\mathtt{,sqrt}()\\mathtt{,pi}$).\n",
    "\n",
    "Pour pouvoir utiliser une fonction qui se trouve dans une bibliothèque, il faut tout d’abord\n",
    "importer le module correspondant à cette bibliothèque, par l'instruction suivante : $\\mathtt{import \\, nom}\\_\\mathtt{module \\, as\\, nom}\\_\\mathtt{alias}$\n",
    "\n",
    "L'_alias_ permet d'appeler le module sans avoir à réécrire son nom complet (qui peut être assez étendu) tout au long du code. Par exemple pour le module $\\mathtt{math}$, il est d'usage d'écrire : </font>\n"
   ]
  },
  {
   "cell_type": "code",
   "execution_count": 108,
   "id": "74bc00f6",
   "metadata": {
    "tags": []
   },
   "outputs": [],
   "source": [
    "import math as m"
   ]
  },
  {
   "cell_type": "markdown",
   "id": "687f2d76",
   "metadata": {},
   "source": [
    "#### >>>>> Q 8) Que renvoient les instructions : $\\mathtt{max?}$ et $\\mathtt{m.sin?}$ ? (testez-les !). Déterminer le maximum et le minimum parmi les nombres 3,-8.2,5,12.3. Calculer le sinus de 30°.\n"
   ]
  },
  {
   "cell_type": "code",
   "execution_count": 109,
   "id": "ca9016a8",
   "metadata": {
    "tags": []
   },
   "outputs": [
    {
     "name": "stdout",
     "output_type": "stream",
     "text": [
      "le max est= 12.3\n",
      "le min est= -8.2\n"
     ]
    }
   ],
   "source": [
    "print(\"le max est=\", max(3, -8.2, 5, 12.3))\n",
    "print(\"le min est=\", min(3, -8.2, 5, 12.3))"
   ]
  },
  {
   "cell_type": "code",
   "execution_count": 110,
   "id": "e7f06e7b",
   "metadata": {
    "tags": []
   },
   "outputs": [
    {
     "data": {
      "text/plain": [
       "0.49999999999999994"
      ]
     },
     "execution_count": 110,
     "metadata": {},
     "output_type": "execute_result"
    }
   ],
   "source": [
    "m.sin(30*m.pi/180)\n"
   ]
  },
  {
   "cell_type": "code",
   "execution_count": 111,
   "id": "37aab3de",
   "metadata": {
    "tags": []
   },
   "outputs": [
    {
     "name": "stdout",
     "output_type": "stream",
     "text": [
      "0.50\n"
     ]
    }
   ],
   "source": [
    "# Max Min sinus\n",
    "max(3,-8.2,5,12.3)\n",
    "m.sin(30*3.14/180); m.sin(30*m.pi/180)\n",
    "print(f'{m.sin(30*m.pi/180):4.2f}')"
   ]
  },
  {
   "cell_type": "code",
   "execution_count": null,
   "id": "e70cf5cb",
   "metadata": {},
   "outputs": [],
   "source": []
  },
  {
   "cell_type": "markdown",
   "id": "1ec409c2",
   "metadata": {},
   "source": [
    "#### >>>>> Q 9) Calculer l'aire des deux triangles $T_1 =\\mathtt{(ABC)}$ et $T_2 =\\mathtt{(ABH)}$ de la figure ci-dessous, avec $b = 4 ~cm$, $\\theta ~= 30^\\circ$ et $h = 4.25 ~cm$. On donnera la valeur de l'angle $\\alpha$ en degrés.\n",
    "\n",
    "<img src=\"triangle_1.png\" alt=\"triangles\" width=\"400\"/>\n"
   ]
  },
  {
   "cell_type": "code",
   "execution_count": 112,
   "id": "df052eb0",
   "metadata": {
    "jupyter": {
     "outputs_hidden": true
    }
   },
   "outputs": [],
   "source": [
    "# Aire des Triangles\n",
    "h = 4.25 #cm\n",
    "theta = 30*m.pi/180 #degrés\n",
    "b = 4 #cm\n",
    "a = b*m.tan(theta) #cm \n",
    "c = a**2 +b **2 #cm\n",
    "\n",
    "T1 = 0.5 * b * a\n",
    "\n",
    "\n"
   ]
  },
  {
   "cell_type": "markdown",
   "id": "00a1c803",
   "metadata": {},
   "source": [
    "# -------------------------------------------------------------------------------------\n",
    "\n",
    "### Partie III. Opérateurs logiques et boucles/iterations\n",
    "\n",
    "La vérité logique est représentée par\n",
    "l’expression _True_ qui signifie vrai et l’expression _False_ qui signifie faux. Ces deux expressions\n",
    "forment le type booléen dénoté $\\mathtt{bool}$, qui n'a donc que deux valeurs possibles : _True_ ou _False_. A partir de là, on peut construire des tests qui renverront une valeur booléenne.\n",
    "\n",
    "Les expressions booléennes sont le plus souvent constituées de :\n",
    "\n",
    "    Test d'égalité : ==\n",
    "    Test d'inégalité : !=\n",
    "    Test d'infériorité stricte : <\n",
    "    Test d'infériorité large : <=\n",
    "    Test de supériorité stricte : >\n",
    "    Test de supériorité large : >=\n",
    "\n",
    "\n",
    "pour comparer des nombres. Par ailleurs, on peut combiner les opérateurs logiques avec les connecteurs suivants : $\\mathtt{and}$ pour \"et\", $\\mathtt{or}$ pour \"ou\", $\\mathtt{not}$ pour \"non\" qui prend le contraire de la condition logique testée.\n",
    "\n",
    "Ces tests sont utiles pour construire des _alternatives_ qui proposent des choix. La syntaxe est la suivante (notez l'indentation après chaque ligne de test)':\n",
    "\n",
    "```python\n",
    "if(condition1):\n",
    "     consequence1\n",
    "elif(condition2):\n",
    "     consequence2\n",
    "else:\n",
    "     consequence3\n",
    "```\n",
    "\n",
    "Ainsi, si la $\\mathtt{condition1}$ vaut _True_ alors la $\\mathtt{consequence1}$ sera exécutée. Sinon (la première condition vaut donc _False_) la deuxième condition est testée, si elle est vraie la deuxième conséquence est exécutée. Enfin si les deux conditions (toutes les conditions précédentes) sont fausses la dernière conséquence est donc appliquée.\n",
    "\n",
    "On peut ajouter autant de tests que l'on souhaite. **Attention** à bien respecter l'identation pour les conséquences.\n"
   ]
  },
  {
   "cell_type": "markdown",
   "id": "670b0cc7",
   "metadata": {},
   "source": [
    "#### >>>>> Q 10) Ecrire un programme test concernant le triangle T1: est-il isocèle (2 côtés égaux), équilatéral (3 côtés égaux), quelconque?\n"
   ]
  },
  {
   "cell_type": "code",
   "execution_count": 113,
   "id": "b767a679",
   "metadata": {
    "tags": []
   },
   "outputs": [
    {
     "name": "stdout",
     "output_type": "stream",
     "text": [
      "triangle quelconque\n"
     ]
    }
   ],
   "source": [
    "# Test du triangle T1\n",
    "b=4; theta=30*m.pi/180\n",
    "a=b*m.tan(theta); \n",
    "c=a**2+b**2\n",
    "if (a == b or b == c or c == a):\n",
    "    print('triangle isocele')\n",
    "elif (a == b and a == c):\n",
    "    print('triangle equilateral')\n",
    "else:\n",
    "    print('triangle quelconque')\n",
    "    "
   ]
  },
  {
   "cell_type": "markdown",
   "id": "4f1f8d8b",
   "metadata": {},
   "source": [
    "# --------\n",
    "\n",
    "Pour réaliser des opérations répétitives, on peut utiliser deux types de boucles : avec $\\mathtt{while}$ (_tant que_ ... quand on a un test) et $\\mathtt{for}$ (_pour_ ... quand on connait la séquence d'indices à parcourir). Les syntaxes sont les suivantes :\n",
    "\n",
    "```python\n",
    "while(condition):\n",
    "     corps\n",
    "```\n",
    "\n",
    "```python\n",
    "for <index> in <intervalle>:\n",
    "     corps\n",
    "```\n",
    "\n",
    "$\\mathtt{index}$ est un indice, et $\\mathtt{intervalle}$ sera l'instruction $\\mathtt{range(m,n)}$, qui construit l’intervalle des entiers allant de m (inclus) à n (exclu), soit $[m;n-1]$. Par défaut, quand $m$ n'est pas précisé, $m=0$.\n",
    "\n",
    "**Attention**\n",
    "\n",
    "- à bien respecter l'identation du corps d'instruction.\n",
    "- dans le cas des boucles $\\mathtt{while}$, vous devez inclure une modification de la condition au sein du corps de la boucle. Si vous ne faites pas attention, vous risquez d'écrire _une boucle qui ne termine pas_ et votre code tournera jusqu'à ce qu'ennui s'en suive. Vous pouvez utiliser la commande $\\mathtt{break}$ pour sortir de la boucle actuelle sans avoir à attendre la fin.\n",
    "\n",
    "Deux exemples simples de boucles while et for (impression des entiers de 1 à 4) sont donnés dans la cellule qui suit.\n"
   ]
  },
  {
   "cell_type": "code",
   "execution_count": 114,
   "id": "1983b6ae",
   "metadata": {
    "jupyter": {
     "outputs_hidden": true
    }
   },
   "outputs": [
    {
     "name": "stdout",
     "output_type": "stream",
     "text": [
      "1 2 3 4 fin\n",
      "1 2 3 4 fin\n"
     ]
    }
   ],
   "source": [
    "# avec while\n",
    "m=5; i=1\n",
    "while(i<m):\n",
    "    print(i,end=\" \")\n",
    "    i=i+1\n",
    "print(\"fin\")\n",
    "# avec for\n",
    "m=5\n",
    "for i in range (1,m):\n",
    "    print(i,end=\" \")\n",
    "print(\"fin\")"
   ]
  },
  {
   "cell_type": "markdown",
   "id": "737a6b46",
   "metadata": {},
   "source": [
    "#### >>>>> Q 11) Ecrire de deux façons (avec $\\mathtt{while}$ et $\\mathtt{for}$) une boucle qui fait la somme des 5 premiers entiers. Le résultat sera stocké dans une variable appelée $\\mathtt{s}$.\n"
   ]
  },
  {
   "cell_type": "code",
   "execution_count": 115,
   "id": "3805d8d5",
   "metadata": {
    "jupyter": {
     "outputs_hidden": true
    }
   },
   "outputs": [
    {
     "name": "stdout",
     "output_type": "stream",
     "text": [
      "15\n",
      "15\n"
     ]
    }
   ],
   "source": [
    "# Somme des 5 premiers entiers\n",
    "s=0\n",
    "for i in range(1,6):\n",
    "    s=s+i\n",
    "print(s)\n",
    "\n",
    "i=0; s=0\n",
    "while(i<6):\n",
    "    s=s+i\n",
    "    i=i+1\n",
    "print(s)"
   ]
  },
  {
   "cell_type": "markdown",
   "id": "031e15fe",
   "metadata": {},
   "source": [
    "# ---------------------------------------------------------------------------------------\n",
    "\n",
    "### Partie IV. Tableaux Numpy\n",
    "\n",
    "En mécanique - physique, on traite souvent de la même manière un grand nombre de valeurs homogènes (par exemple issues de mesures). Pour faciliter leur traitement, on les sauvegarde dans des tableaux (\"arrays\" en anglais), construits à partir de la bibliothèque _Numpy_.\n",
    "La bibliothèque _Numpy_ contient un très grand nombre d'opérateurs mathématiques qui peuvent agir directement sur ces tableaux (pour être précis, sur les composantes de ces tableaux).\n",
    "\n",
    "Tout d'abord, il faut charger cette bibliothèque en utilisant l'expression $\\mathtt{import}$, puis simplifier son nom à l'aide du mot-clé $\\mathtt{as}$, de façon à limiter les écritures. Il est courant d'appliquer l'instruction suivante :\n"
   ]
  },
  {
   "cell_type": "code",
   "execution_count": 116,
   "id": "cde58ae4",
   "metadata": {
    "jupyter": {
     "outputs_hidden": true
    }
   },
   "outputs": [],
   "source": [
    "import numpy as np"
   ]
  },
  {
   "cell_type": "markdown",
   "id": "f8421192",
   "metadata": {},
   "source": [
    "Les tableaux Numpy contenant des ensembles de données homogènes de tailles\n",
    "fixes (liste d’entiers, vecteurs réels ou complexes, matrices...) seront de type\n",
    "_ndarray_. Attention, les tableaux NumPy ont beau avoir beaucoup de points communs avec les _listes_ que vous avez peut être déjà rencontré, ces deux objets sont vraiment différents (taille dynamique, types acceptés, opérations globales, concaténation...) et ne doivent pas être confondus.\n",
    "\n",
    "**Mise en garde**: Au sein de ce module, on utilisera exclusivement les tableaux Numpy.\n",
    "\n",
    "La taille et le type des éléments d’un tableau Numpy **doivent être connus à l’avance**. On crée donc en premier lieu un tableau rempli de zéros $\\mathtt{np.zeros}()$ ou de uns $\\mathtt{np.ones}()$ de la bonne taille et forme, avec un type de variable que l'on peut imposer (argument optionnel $\\mathtt{dtype}$). Le type des éléments du tableau Numpy array1 peut être déterminé par $\\mathtt{array1.dtype}$.\n",
    "\n",
    "On peut aussi directement affecter des valeurs dans un tableau en utilisant le constructeur :$\\mathtt{np.array([[ , , , ],[ , , , ], \\textrm{etc...}])}$, où les $\\mathtt{[ , , , ]}$ matérialisent les contenus du tableau pour la variation du dernier indice, soit typiquement en 2D une ligne (on fait varier l'indice de colonne).\n",
    "\n",
    "On se déplace dans un tableau par des <font color='red'>indices **commençant à 0**</font>. Un tableau 1D - appelé aussi vecteur - a 1 indice variable, un tableau 2D a 2 indices variables, et un tableau 3D a 3 indices.\n",
    "\n",
    "On pourra utiliser les commandes $\\mathtt{array1.dtype}$ et $\\mathtt{array1.shape}$ pour vérifier le type et la taille des tableaux. Pour un vecteur, on pourra utiliser $\\mathtt{len(vec)}$ pour obtenir le nombre d'éléments de celui-ci.\n"
   ]
  },
  {
   "cell_type": "markdown",
   "id": "d35d6281",
   "metadata": {},
   "source": [
    "#### >>>>> Q 12) Afficher le contenu des 5 tableaux ci-dessous, qu'on nommera A, B, C, D, E avec la commande $\\mathtt{print}()$. Spécifier la dimension de chaque tableau et comprendre le rangement de ses éléments.\n"
   ]
  },
  {
   "cell_type": "code",
   "execution_count": 117,
   "id": "2a3af5e3",
   "metadata": {
    "jupyter": {
     "outputs_hidden": true
    }
   },
   "outputs": [],
   "source": [
    "array0 = np.zeros(3, dtype=int) # vecteur de 3 entiers\n",
    "array1 = np.zeros((2,4), dtype=float) # tableau de flottants de taille 2x4\n",
    "\n",
    "array3 = np.array([2,4,5,7]) # vecteur d'entiers\n",
    "array4 = np.array([[1.1,2.2],[1.4,2.4],[0,-1.77]]) # matrice de taille 3 x 2 remplie de réels\n",
    "\n",
    "array2 = np.ones((3,2,5)) # tableau tridimensionnel de flottants"
   ]
  },
  {
   "cell_type": "code",
   "execution_count": 120,
   "id": "4841e122",
   "metadata": {
    "jupyter": {
     "outputs_hidden": true
    }
   },
   "outputs": [
    {
     "name": "stdout",
     "output_type": "stream",
     "text": [
      "[0 0 0] \n",
      "\n",
      "[[0. 0. 0. 0.]\n",
      " [0. 0. 0. 0.]] \n",
      "\n",
      "[2 4 5 7] \n",
      "\n",
      "[[ 1.1   2.2 ]\n",
      " [ 1.4   2.4 ]\n",
      " [ 0.   -1.77]] \n",
      "\n",
      "[[[1. 1. 1. 1. 1.]\n",
      "  [1. 1. 1. 1. 1.]]\n",
      "\n",
      " [[1. 1. 1. 1. 1.]\n",
      "  [1. 1. 1. 1. 1.]]\n",
      "\n",
      " [[1. 1. 1. 1. 1.]\n",
      "  [1. 1. 1. 1. 1.]]] \n",
      "\n"
     ]
    }
   ],
   "source": [
    "# Affichage des tableaux\n",
    "print(array0,\"\\n\"); print(array1,\"\\n\") ; print(array3,\"\\n\"); print(array4,\"\\n\"); print(array2,\"\\n\")"
   ]
  },
  {
   "cell_type": "markdown",
   "id": "b7a36ff5",
   "metadata": {},
   "source": [
    "#### >>>>> Q 13) Reprendre l'exemple ci-dessus (4 premiers tableaux) pour afficher les valeurs de array3[1], array4[1,0] et array4[0,1], array4[2,1] et array4[1,2]. Commenter.\n"
   ]
  },
  {
   "cell_type": "code",
   "execution_count": 121,
   "id": "b79777f0",
   "metadata": {
    "jupyter": {
     "outputs_hidden": true
    }
   },
   "outputs": [
    {
     "name": "stdout",
     "output_type": "stream",
     "text": [
      "valeur de array3[1] = 4\n",
      "valeur de array4[1,0] = 1.4\n",
      "valeur de array4[0,1] = 2.2\n",
      "valeur de array4[2,1] = -1.77\n"
     ]
    },
    {
     "ename": "IndexError",
     "evalue": "index 2 is out of bounds for axis 1 with size 2",
     "output_type": "error",
     "traceback": [
      "\u001b[0;31m---------------------------------------------------------------------------\u001b[0m",
      "\u001b[0;31mIndexError\u001b[0m                                Traceback (most recent call last)",
      "Cell \u001b[0;32mIn[121], line 11\u001b[0m\n\u001b[1;32m      9\u001b[0m \u001b[38;5;28mprint\u001b[39m(\u001b[38;5;124m\"\u001b[39m\u001b[38;5;124mvaleur de array4[2,1] =\u001b[39m\u001b[38;5;124m\"\u001b[39m, array4[\u001b[38;5;241m2\u001b[39m,\u001b[38;5;241m1\u001b[39m])\n\u001b[1;32m     10\u001b[0m \u001b[38;5;66;03m#Array 4[1,2]\u001b[39;00m\n\u001b[0;32m---> 11\u001b[0m \u001b[38;5;28mprint\u001b[39m(\u001b[38;5;124m\"\u001b[39m\u001b[38;5;124mvaleur de array4[1,2] =\u001b[39m\u001b[38;5;124m\"\u001b[39m, \u001b[43marray4\u001b[49m\u001b[43m[\u001b[49m\u001b[38;5;241;43m1\u001b[39;49m\u001b[43m,\u001b[49m\u001b[38;5;241;43m2\u001b[39;49m\u001b[43m]\u001b[49m)\n\u001b[1;32m     12\u001b[0m \u001b[38;5;66;03m#Pour l'array 4 [1,2] cela ne marche pas parce qu'il cherche le valeur 3x2 du tableu\u001b[39;00m\n\u001b[1;32m     13\u001b[0m \u001b[38;5;66;03m#qu'il n'existe pas dans le tableu 3 x 2\u001b[39;00m\n",
      "\u001b[0;31mIndexError\u001b[0m: index 2 is out of bounds for axis 1 with size 2"
     ]
    }
   ],
   "source": [
    "# affichage de certaines valeurs \n",
    "#Array 3[1]\n",
    "print(\"valeur de array3[1] =\", array3[1])\n",
    "#Array 4[1,0]\n",
    "print(\"valeur de array4[1,0] =\", array4[1,0])\n",
    "#Array 4[0,1]\n",
    "print(\"valeur de array4[0,1] =\", array4[0,1])\n",
    "#Array 4[2,1]\n",
    "print(\"valeur de array4[2,1] =\", array4[2,1])\n",
    "#Array 4[1,2]\n",
    "print(\"valeur de array4[1,2] =\", array4[1,2])\n",
    "#Pour l'array 4 [1,2] cela ne marche pas parce qu'il cherche le valeur 3x2 du tableu\n",
    "#qu'il n'existe pas dans le tableu 2 x 3\n"
   ]
  },
  {
   "cell_type": "markdown",
   "id": "51e62176",
   "metadata": {},
   "source": [
    "#### >>>>> Q 14) Tester les commandes suivantes. Elles illustrent la signification des mots-clés $\\mathtt{(-1,-2,:)}$. Expliquer.\n",
    "\n",
    "#### >>>>> Modifier ensuite la valeur du dernier éléments de array3 pour lui donner une valeur double.\n"
   ]
  },
  {
   "cell_type": "code",
   "execution_count": 122,
   "id": "0df925eb",
   "metadata": {
    "jupyter": {
     "outputs_hidden": true
    }
   },
   "outputs": [
    {
     "name": "stdout",
     "output_type": "stream",
     "text": [
      "array3[:]=[2 4 5 7]\n",
      "array3[0]=2\n",
      "array3[-1]=7\n",
      "array3[0:-1]=[2 4 5]\n",
      "array3[0:2]=[2 4]\n",
      "array3[0:]=[2 4 5 7]\n",
      "array3[-2]=5\n",
      "array3[:-2]=[2 4]\n",
      "\n",
      "\n"
     ]
    }
   ],
   "source": [
    "# Test des commandes\n",
    "array3 = np.array([2,4,5,7])\n",
    "print (f\"array3[:]={array3[:]}\")\n",
    "print (f\"array3[0]={array3[0]}\")\n",
    "print (f\"array3[-1]={array3[-1]}\")\n",
    "print (f\"array3[0:-1]={array3[0:-1]}\")\n",
    "print (f\"array3[0:2]={array3[0:2]}\")\n",
    "print (f\"array3[0:]={array3[0:]}\")\n",
    "print (f\"array3[-2]={array3[-2]}\")\n",
    "print (f\"array3[:-2]={array3[:-2]}\")\n",
    "print(f\"\\n\")\n",
    "\n",
    "#Le command \" -1 \" prendre le dernier élément de la liste, et le \" -2 \"\" prendre l'avant dernier.\n",
    "#Pour le command \" : \" il prendre toutes les valeurs entre les nombres x : y, depuis le nombre qu'il y a dans la position\n",
    "#de la gauche  des deux points (x) jusqu'à le nombre qu'il y a dans la position de le nombre de la droite (y) dans l'array"
   ]
  },
  {
   "cell_type": "markdown",
   "id": "b28b54c2",
   "metadata": {},
   "source": [
    "Commentaire :\n",
    "\n",
    "- ($\\mathtt{-1}$) désigne le dernier élément de l'indice, ($\\mathtt{-2}$) l'avant dernier ;\n",
    "- **Attention, l'indice de fin de plage ($\\mathtt{debut:fin}$) n'est jamais atteint !!!** La boucle implicite s'arrête juste avant.\n",
    "- si on ne précise pas le début ou la fin de la plage, on parcourt la plage jusqu'à l'extrêmité non explicitée.\n"
   ]
  },
  {
   "cell_type": "code",
   "execution_count": 123,
   "id": "f8ce13cb",
   "metadata": {
    "jupyter": {
     "outputs_hidden": true
    }
   },
   "outputs": [
    {
     "name": "stdout",
     "output_type": "stream",
     "text": [
      "[ 2  4  5 14]\n"
     ]
    }
   ],
   "source": [
    "# Modification de array3\n",
    "i = 3\n",
    "while (i>2):\n",
    "    array3[i] = array3[i] * 2\n",
    "    i = i - 1\n",
    "    \n",
    "print(array3)\n"
   ]
  },
  {
   "cell_type": "markdown",
   "id": "e5eb9270",
   "metadata": {},
   "source": [
    "# -------------\n",
    "\n",
    "Pour créer rapidement des vecteurs avec un nombre d'éléments fixé dans un intervalle donné, des fonctions pré-définies Numpy existent:\n",
    "\n",
    "- $\\mathtt{np.arange}$\n",
    "- $\\mathtt{np.linspace}$\n",
    "\n",
    "  - $\\mathtt{np.arange(a,b,d)}$ crée le vecteur de valeurs dans [a,b[ avec un pas d.\n",
    "  - $\\mathtt{np.linspace(a,b,n)}$ crée le vecteur de n valeurs dans [a,b].\n",
    "\n",
    "Les deux fonctions sont très utiles pour générer par exemple un jeu d'indices, un jeu de coordonnées (x ou y ou z,...), ...\n",
    "Le code ci-dessous permet de comprendre les deux types d'instruction.\n"
   ]
  },
  {
   "cell_type": "code",
   "execution_count": 124,
   "id": "c53e8b51",
   "metadata": {
    "jupyter": {
     "outputs_hidden": true
    }
   },
   "outputs": [
    {
     "name": "stdout",
     "output_type": "stream",
     "text": [
      "[ 0  1  2  3  4  5  6  7  8  9 10]\n",
      "[ 0.  1.  2.  3.  4.  5.  6.  7.  8.  9. 10.]\n",
      "[0 1 2 3 4]\n",
      "[2 3 4]\n"
     ]
    }
   ],
   "source": [
    "A=np.arange(0,11,1); print(A)\n",
    "B=np.linspace(0,10,11); print(B)\n",
    "vect0 = np.arange(5); print(vect0)\n",
    "vect1= np.arange(2,5); print(vect1)"
   ]
  },
  {
   "cell_type": "markdown",
   "id": "60247d68",
   "metadata": {},
   "source": [
    "#### >>>>> Q 15) Générer et afficher à l'écran les vecteurs vect2=[0 2 4], vect3=[2.5 5.0 7.5], vect4=[-4.0 -3.0 -2.0 -1.0 0], vect5=[-1.5 -1. -0.5 0. 0.5 1. 1.5 2. ] en utilisant $\\mathtt{np.arange}$.\n",
    "\n",
    "Ne pas hésiter à utiliser l'aide ($\\mathtt{np.arange?}$}$).\n"
   ]
  },
  {
   "cell_type": "code",
   "execution_count": 125,
   "id": "ca815638",
   "metadata": {
    "jupyter": {
     "outputs_hidden": true
    }
   },
   "outputs": [
    {
     "name": "stdout",
     "output_type": "stream",
     "text": [
      "vect2 = [0 2 4]\n",
      "vect3 = [2.5 5.  7.5]\n",
      "vect4 = [-4. -3. -2. -1.  0.]\n",
      "vect5 = [-1.5 -1.  -0.5  0.   0.5  1.   1.5  2. ]\n"
     ]
    }
   ],
   "source": [
    "# vecteurs N° 2,3,4,5 avec np.arange\n",
    "vect2 = np.arange(0,5,2); print(\"vect2 =\", vect2)\n",
    "vect3 = np.arange(2.5,10,2.5); print(\"vect3 =\", vect3)\n",
    "vect4 = np.arange(-4.0,1,1); print(\"vect4 =\", vect4)\n",
    "vect5 = np.arange(-1.5,2.5,0.5); print(\"vect5 =\", vect5)\n"
   ]
  },
  {
   "cell_type": "markdown",
   "id": "8d5ceb6b",
   "metadata": {},
   "source": [
    "# ---------\n",
    "\n",
    "Des opérations arithmétiques sont possibles sur les tableaux Numpy.\n",
    "**Attention**, on différenciera les opérations _élémentaires_ (chaque élément du tableau est concerné individuellement par l'opération suivant sa place dans le tableau), des opérations _matricielles_.\n",
    "\n",
    "- opérations élémentaires : $\\mathtt{+,-,*}$, mais aussi des fonctions mathématiques Numpy comme $\\mathtt{np.cos, np.exp}$.\n",
    "- produit matriciel. 3 écritures pour la même opération mathématique : $\\mathtt{np.dot(mat1,mat2)}$, $\\mathtt{mat1.dot(mat2)}$,$\\mathtt{mat1@mat2}$.\n"
   ]
  },
  {
   "cell_type": "markdown",
   "id": "dcc5eaee",
   "metadata": {},
   "source": [
    "#### >>>>> Q 16) On se propose de tester les opérations sur des tableaux qui seront des vecteurs:\n",
    "\n",
    "1. Créer deux vecteurs $V1$ et $V2$ de longueur 10, variant entre 1 et 10.\n",
    "2. Diviser chaque élément de $V1$ par 10. Ajouter 10 à chaque élément de $V2$\n",
    "3. Mettre à zéro tous les éléments de $V1$ supérieurs stricts à 0.5. Idem pour les éléments de V2 impairs.\n"
   ]
  },
  {
   "cell_type": "code",
   "execution_count": 126,
   "id": "c9ae1dde",
   "metadata": {
    "tags": []
   },
   "outputs": [
    {
     "name": "stdout",
     "output_type": "stream",
     "text": [
      "Avant le boucle while \n",
      " V1 = [ 1.  2.  3.  4.  5.  6.  7.  8.  9. 10.] \n",
      " V2 = [ 1  2  3  4  5  6  7  8  9 10] \n",
      "\n",
      "Après le boucle while \n",
      " V1 = [0.1 0.2 0.3 0.4 0.5 0.6 0.7 0.8 0.9 1. ] \n",
      " V2 = [11 12 13 14 15 16 17 18 19 20] \n",
      "\n",
      "Après le deuxième boucle while \n",
      " V1 = [0.1 0.2 0.3 0.4 0.5 0.  0.  0.  0.  0. ] \n",
      " V2 = [ 0 12  0 14  0 16  0 18  0 20]\n"
     ]
    }
   ],
   "source": [
    "#q.1\n",
    "V1 = np.linspace(1,10,10); \n",
    "V2 = np.arange(1,11,1); \n",
    "\n",
    "#q.2\n",
    "print(\"Avant le boucle while \\n V1 =\", V1[:],\"\\n V2 =\",V2[:],\"\\n\")\n",
    "i = 0 \n",
    "while(i<10):\n",
    "    V1[i] = V1[i]/10\n",
    "    V2[i] = V2[i] + 10\n",
    "    i = i + 1\n",
    "\n",
    "print(\"Après le boucle while \\n V1 =\", V1[:],\"\\n V2 =\",V2[:],\"\\n\")\n",
    "\n",
    "#q.3\n",
    "i = 0\n",
    "while(i<10):\n",
    "    if(V1[i]>0.5):\n",
    "        V1[i] = 0\n",
    "    if(V2[i]%2 != 0):\n",
    "        V2[i] = 0\n",
    "    i = i + 1\n",
    "print(\"Après le deuxième boucle while \\n V1 =\", V1[:],\"\\n V2 =\",V2[:])\n",
    "\n"
   ]
  },
  {
   "cell_type": "markdown",
   "id": "c64e884a-49e3-4294-8239-05364376c3d9",
   "metadata": {
    "jupyter": {
     "outputs_hidden": true
    }
   },
   "source": [
    "# Quelques exercices supplémentaires de révision portant sur ce TP1.\n",
    "\n",
    "## A traiter en plus des questions du notebook non corrigées en séance.\n",
    "\n",
    "## <font color='red'> >> Le travail est à réaliser en autonomie et à rendre sur Moodle individuellement dans 1 semaine (voir le tableau des dates de rendu sur Moodle). Tout retard sera pénalisé. </font>\n",
    "\n",
    "---\n",
    "\n",
    "---\n"
   ]
  },
  {
   "cell_type": "markdown",
   "id": "13c83f4b-9636-4a93-8453-17c19ae04a94",
   "metadata": {
    "tags": []
   },
   "source": [
    "#### #### Exercice N 1 : Tester les expressions suivantes :\n",
    "\n",
    "$\\mathtt{c=a/b}$,$\\mathtt{d=a//b}$, $\\mathtt{e=17/5}$, $\\mathtt{f=17.0/5.0}$ .\n",
    "Même chose avec $\\mathtt{a=16}$ et $\\mathtt{b=4}$.\n",
    "\n",
    "Expliquer les raisons des différences obtenues en testant les types des variables (on utilisera le mot-clé $\\mathtt{type}$, voir le memento).\n"
   ]
  },
  {
   "cell_type": "code",
   "execution_count": 127,
   "id": "b6dc82e0-52a0-4c4b-8171-497e376b317d",
   "metadata": {},
   "outputs": [
    {
     "name": "stdout",
     "output_type": "stream",
     "text": [
      "Le valeur de c:  4.0 Le valeur de d:  4 Le valeur de e:  3.4 Le valeur de f: 3.4\n"
     ]
    }
   ],
   "source": [
    "# réponse N1 \n",
    "a = 16; b = 4; \n",
    "c = a/b; d = a//b; e = 17/5; f = 17.0/5.0\n",
    "\n",
    "print(\"Le valeur de c: \", c, \"Le valeur de d: \", d,\"Le valeur de e: \",e, \"Le valeur de f:\", f)\n",
    "\n",
    "#Les différences dans les types de variables résultent de la manière dont Python effectue les opérations mathématiques en fonction des types de données des opérandes. \n",
    "#Les opérations entre des entiers donnent généralement des entier tels que c = a/b, e = 17/5\n",
    "#tandis que les opérations avec au moins un nombre à virgule flottante donnent un résultat à virgule flottante d = a//b et f = 17.0/5.0"
   ]
  },
  {
   "cell_type": "markdown",
   "id": "a9cb64f4-ad1f-47d4-a801-0bff0cb3c481",
   "metadata": {},
   "source": [
    "#### #### N 2 : Générer et afficher à l'écran les vecteurs vect2=[0 2 4], vect3=[2.5 5.0 7.5], vect4=[-4.0 -3.0 -2.0 -1.0 0], vect5=[-1.5 -1. -0.5 0. 0.5 1. 1.5 2. ] en utilisant $\\mathtt{np.linspace}$.\n",
    "\n",
    "Ne pas hésiter à utiliser l'aide ($\\mathtt{np.linspace?}$).\n"
   ]
  },
  {
   "cell_type": "code",
   "execution_count": 128,
   "id": "0ad9ef78-8894-474f-9e26-9685be900529",
   "metadata": {
    "tags": []
   },
   "outputs": [
    {
     "name": "stdout",
     "output_type": "stream",
     "text": [
      "vect2 = [0 2 4]\n",
      "vect3 = [2.5 5.  7.5]\n",
      "vect4 = [-4. -3. -2. -1.  0.]\n",
      "vect5 = [-1.5 -1.  -0.5  0.   0.5  1.   1.5  2. ]\n"
     ]
    }
   ],
   "source": [
    "# réponse N2\n",
    "\n",
    "# vecteurs N° 2,3,4,5 avec np.arange\n",
    "vect2 = np.arange(0,5,2); print(\"vect2 =\", vect2)\n",
    "vect3 = np.arange(2.5,10,2.5); print(\"vect3 =\", vect3)\n",
    "vect4 = np.arange(-4.0,1,1); print(\"vect4 =\", vect4)\n",
    "vect5 = np.arange(-1.5,2.5,0.5); print(\"vect5 =\", vect5)\n"
   ]
  },
  {
   "cell_type": "markdown",
   "id": "965e6d92-8ab1-4586-979d-88e8c5a1cb33",
   "metadata": {},
   "source": [
    "#### #### N3 : On cherche à calculer le produit scalaire de deux vecteurs\n",
    "\n",
    "1. Créer deux vecteurs _vect_a_ et _vect_b_ de longueur 10, tels que <br>\n",
    "   $\\textrm{vect_a}=[5.  ~~5.1 ~~5.2 ~~5.3 ~~5.4 ~~5.5   ~~5.6 ~~5.7 ~~5.8 ~~5.9]$<br>\n",
    "   et $\\textrm{vect_b}=[0.  ~~0.1 ~~0.2 ~~0.3 ~~0.4 ~~0.5   ~~0.6 ~~0.7 ~~0.8 ~~0.9]$\n",
    "\n",
    "2. Réaliser le produit scalaire (grâce à l'opérateur $\\mathtt{@}$, puis $\\mathtt{np.dot}$) $Pscal=vect\\_a \\cdot vect\\_b$. Afficher les résultats.\n",
    "\n",
    "3. Tester l'égalité des deux résultats (boucle $\\mathtt{if}$, en affichant le résultat du test (un format peut-être nécessaire pour n'afficher que les chiffres significatifs.)\n",
    "\n",
    "4. Vérifier la valeur du produit scalaire en réalisant un troisième calcul (on nommera le résultat $\\textrm{Pscal_new}$) en utilisant une boucle $\\mathtt{for}$. Interpréter le résultat vis-à-vis des erreurs d'arrondis.\n"
   ]
  },
  {
   "cell_type": "code",
   "execution_count": 129,
   "id": "9a6f94c9-a8c8-4b88-b139-8c761a1c8260",
   "metadata": {},
   "outputs": [
    {
     "name": "stdout",
     "output_type": "stream",
     "text": [
      "[5.  5.1 5.2 5.3 5.4 5.5 5.6 5.7 5.8 5.9]\n",
      "[0.  0.1 0.2 0.3 0.4 0.5 0.6 0.7 0.8 0.9]\n"
     ]
    }
   ],
   "source": [
    "# réponse N3\n",
    "#q1.\n",
    "vect_a = np.arange(5, 6, 0.1)\n",
    "vect_b = np.arange(0, 1, 0.1)\n",
    "print(vect_a)\n",
    "print(vect_b)"
   ]
  },
  {
   "cell_type": "code",
   "execution_count": 130,
   "id": "82c3f9b7-58ab-4010-8d12-139cd30718e4",
   "metadata": {},
   "outputs": [
    {
     "name": "stdout",
     "output_type": "stream",
     "text": [
      "25.349999999999987\n",
      "25.349999999999987\n"
     ]
    }
   ],
   "source": [
    "#q2.\n",
    "#Avec le @\n",
    "produit_scalaire = vect_a @ vect_b\n",
    "print(produit_scalaire)\n",
    "\n",
    "#Avec le np.dot\n",
    "produit_scalaire1 = np.dot(vect_a, vect_b)\n",
    "print(produit_scalaire1)"
   ]
  },
  {
   "cell_type": "code",
   "execution_count": 131,
   "id": "37b11d73-f878-4cac-9700-9068c412a1be",
   "metadata": {},
   "outputs": [
    {
     "name": "stdout",
     "output_type": "stream",
     "text": [
      "Les résultats sont égaux!\n"
     ]
    }
   ],
   "source": [
    "#q3.\n",
    "result_equal = abs(produit_scalaire  == produit_scalaire1) \n",
    "if result_equal:\n",
    "    print(\"Les résultats sont égaux!\")"
   ]
  },
  {
   "cell_type": "code",
   "execution_count": 132,
   "id": "2ea392d0-dc8f-4d6a-87ef-81175d74a8fa",
   "metadata": {},
   "outputs": [
    {
     "name": "stdout",
     "output_type": "stream",
     "text": [
      "Produit scalaire avec une boucle for : 25.349999999999987\n"
     ]
    }
   ],
   "source": [
    "#q4.\n",
    "Pscal_new = 0\n",
    "for i in range(len(vect_a)):\n",
    "    Pscal_new += vect_a[i] * vect_b[i]\n",
    "\n",
    "print(\"Produit scalaire avec une boucle for :\", Pscal_new)"
   ]
  },
  {
   "cell_type": "markdown",
   "id": "614f601f-81da-4ef8-9dd6-909bf4e52765",
   "metadata": {},
   "source": [
    "#### #### N4 : Volume de café\n",
    "\n",
    "<img src=\"cafe.png\" alt=\"cafe\" width=\"150\" align=\"right\"/>\n",
    "\n",
    "Dans le porte-gobelet du porte-bagage de votre vélo, vous avez imprudemment placé un mug (de diamètre : 7,5 cm) sans couvercle. Celui-ci contient 60 cl de café, et est rempli jusqu'à 10 mm du bord.\n",
    "\n",
    "1. Calculez la hauteur du mug si vous roulez sur du plat.\n",
    "\n",
    "2. Si vous habitez sur les hauteurs de la rue Ménilmontant à Paris (pente 14 \\%), ou bien San Francisco Filbert Street (pente 31.5 \\%), est-il nécessaire de changer de mug pour profiter de son café sur les bancs de l'université ?\n",
    "\n",
    "La réponse affichée sera OUI ou NON.\n",
    "Dans tous les cas, vous justifierez votre réponse en précisant la hauteur minimale de mug nécessaire (attention au format de l'affichage).\n",
    "\n",
    "3. Utilisez une boucle $\\mathtt{WHILE}$ pour identifier la pente maximale admissible à 0.5\\% près. On commencera par créer le tableau _Numpy_ permettant de parcourir toutes les pentes entre 14 et 31.5\\% avec un incrément de 0.5\\%.\n",
    "\n",
    "Remarque : Une pente correspond au rapport entre le dénivelé (hauteur) et la distance horizontale parcourue.\n"
   ]
  },
  {
   "cell_type": "code",
   "execution_count": 133,
   "id": "2594c7c8-3130-4b4a-b3c4-8ec03c6aeb3f",
   "metadata": {},
   "outputs": [
    {
     "name": "stdout",
     "output_type": "stream",
     "text": [
      "13.591221810508403\n"
     ]
    }
   ],
   "source": [
    "# réponse N4\n",
    "#q1.\n",
    "import math\n",
    "\n",
    "\n",
    "diametre_mug_m = 7.5/ 100  \n",
    "volume_cafe_l = 60 / 1000   \n",
    "marge_remplissage_m = 10 / 1000  \n",
    "\n",
    "aire_base_mug = math.pi * (diametre_mug_m / 2)**2\n",
    "hauteur_minimale_m = (volume_cafe_l + (aire_base_mug * marge_remplissage_m)) / aire_base_mug\n",
    "\n",
    "print(hauteur_minimale_m)\n"
   ]
  },
  {
   "cell_type": "code",
   "execution_count": 134,
   "id": "e27537c1-61d8-4022-9c67-9e16ab3c9c54",
   "metadata": {},
   "outputs": [
    {
     "name": "stdout",
     "output_type": "stream",
     "text": [
      "NON\n",
      "NON\n"
     ]
    }
   ],
   "source": [
    "#q2.\n",
    "import numpy \n",
    "ente_min = 0.14       \n",
    "pente_max = 0.315      \n",
    "increment_pente = 0.005  \n",
    "\n",
    "if hauteur_minimale_m > ente_min*100:\n",
    "    print(\"OUI\")\n",
    "else: \n",
    "    print(\"NON\")\n",
    "\n",
    "if hauteur_minimale_m > pente_max*100:\n",
    "    print(\"OUI\")\n",
    "else: \n",
    "    print(\"NON\")"
   ]
  },
  {
   "cell_type": "code",
   "execution_count": 135,
   "id": "841e7343-c2d7-4a08-a54e-f5aa8e9c6cab",
   "metadata": {},
   "outputs": [
    {
     "ename": "NameError",
     "evalue": "name 'pente_min' is not defined",
     "output_type": "error",
     "traceback": [
      "\u001b[0;31m---------------------------------------------------------------------------\u001b[0m",
      "\u001b[0;31mNameError\u001b[0m                                 Traceback (most recent call last)",
      "Cell \u001b[0;32mIn[135], line 2\u001b[0m\n\u001b[1;32m      1\u001b[0m \u001b[38;5;66;03m#q3\u001b[39;00m\n\u001b[0;32m----> 2\u001b[0m pentetab \u001b[38;5;241m=\u001b[39m numpy\u001b[38;5;241m.\u001b[39marange(\u001b[43mpente_min\u001b[49m, pente_max \u001b[38;5;241m+\u001b[39m increment_pente, increment_pente)\n\u001b[1;32m      3\u001b[0m \u001b[38;5;28;01mfor\u001b[39;00m pente \u001b[38;5;129;01min\u001b[39;00m pentetab:\n\u001b[1;32m      4\u001b[0m     \u001b[38;5;28;01mif\u001b[39;00m hauteur_minimale_m \u001b[38;5;241m>\u001b[39m pente:\n",
      "\u001b[0;31mNameError\u001b[0m: name 'pente_min' is not defined"
     ]
    }
   ],
   "source": [
    "#q3\n",
    "pentetab = numpy.arange(pente_min, pente_max + increment_pente, increment_pente)\n",
    "for pente in pentetab:\n",
    "    if hauteur_minimale_m > pente:\n",
    "        print(f\"Pente de {pente*100:.1f}% : OUI\")\n",
    "    else:\n",
    "        print(f\"Pente de {pente*100:.1f}% : NON\")"
   ]
  }
 ],
 "metadata": {
  "kernelspec": {
   "display_name": "Python 3",
   "language": "python",
   "name": "python3"
  },
  "language_info": {
   "codemirror_mode": {
    "name": "ipython",
    "version": 3
   },
   "file_extension": ".py",
   "mimetype": "text/x-python",
   "name": "python",
   "nbconvert_exporter": "python",
   "pygments_lexer": "ipython3",
   "version": "3.10.12"
  }
 },
 "nbformat": 4,
 "nbformat_minor": 5
}
